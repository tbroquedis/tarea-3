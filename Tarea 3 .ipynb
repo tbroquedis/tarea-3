{
 "cells": [
  {
   "cell_type": "code",
   "execution_count": 1,
   "metadata": {},
   "outputs": [],
   "source": [
    "from robobrowser import RoboBrowser\n",
    "import folium\n",
    "import geocoder\n",
    "import pandas"
   ]
  },
  {
   "cell_type": "code",
   "execution_count": 2,
   "metadata": {},
   "outputs": [],
   "source": [
    "browser = RoboBrowser(parser='html5lib')\n",
    "url = 'https://www.bcn.cl/siit/actualidad-territorial-19-5-2015/contaminacion-atmosferica-en-las-ciudades-del-mundo'"
   ]
  },
  {
   "cell_type": "code",
   "execution_count": 3,
   "metadata": {},
   "outputs": [],
   "source": [
    "browser.open(url)"
   ]
  },
  {
   "cell_type": "code",
   "execution_count": 4,
   "metadata": {},
   "outputs": [
    {
     "data": {
      "text/plain": [
       "<RoboBrowser url=https://www.bcn.cl/siit/actualidad-territorial-19-5-2015/contaminacion-atmosferica-en-las-ciudades-del-mundo>"
      ]
     },
     "execution_count": 4,
     "metadata": {},
     "output_type": "execute_result"
    }
   ],
   "source": [
    "browser"
   ]
  },
  {
   "cell_type": "code",
   "execution_count": 5,
   "metadata": {},
   "outputs": [
    {
     "data": {
      "text/plain": [
       "[<table class=\"tablas-indices2\">\n",
       " <tbody>\n",
       " <tr>\n",
       " <td>\n",
       " <p align=\"center\" style=\"text-align: center;\"><strong>Ciudad</strong></p>\n",
       " </td>\n",
       " <td>\n",
       " <p align=\"center\" style=\"text-align: center;\"><strong>Lugar en ranking </strong></p>\n",
       " </td>\n",
       " <td>\n",
       " <p align=\"center\" style=\"text-align: center;\"><strong>Valor medio anual PM10</strong></p>\n",
       " </td>\n",
       " </tr>\n",
       " <tr>\n",
       " <td>\n",
       " <p><strong>Arica</strong></p>\n",
       " </td>\n",
       " <td>\n",
       " <p align=\"right\" style=\"text-align: right;\">837</p>\n",
       " </td>\n",
       " <td>\n",
       " <p align=\"right\" style=\"text-align: right;\">41</p>\n",
       " </td>\n",
       " </tr>\n",
       " <tr>\n",
       " <td>\n",
       " <p><strong>Arauco</strong></p>\n",
       " </td>\n",
       " <td>\n",
       " <p align=\"right\" style=\"text-align: right;\">849</p>\n",
       " </td>\n",
       " <td>\n",
       " <p align=\"right\" style=\"text-align: right;\">43</p>\n",
       " </td>\n",
       " </tr>\n",
       " <tr>\n",
       " <td>\n",
       " <p><strong>Valparaíso</strong></p>\n",
       " </td>\n",
       " <td>\n",
       " <p align=\"right\" style=\"text-align: right;\">850</p>\n",
       " </td>\n",
       " <td>\n",
       " <p align=\"right\" style=\"text-align: right;\">43</p>\n",
       " </td>\n",
       " </tr>\n",
       " <tr>\n",
       " <td>\n",
       " <p><strong>Temuco</strong></p>\n",
       " </td>\n",
       " <td>\n",
       " <p align=\"right\" style=\"text-align: right;\">880</p>\n",
       " </td>\n",
       " <td>\n",
       " <p align=\"right\" style=\"text-align: right;\">49</p>\n",
       " </td>\n",
       " </tr>\n",
       " <tr>\n",
       " <td>\n",
       " <p><strong>Concepción</strong></p>\n",
       " </td>\n",
       " <td>\n",
       " <p align=\"right\" style=\"text-align: right;\">883</p>\n",
       " </td>\n",
       " <td>\n",
       " <p align=\"right\" style=\"text-align: right;\">49</p>\n",
       " </td>\n",
       " </tr>\n",
       " <tr>\n",
       " <td>\n",
       " <p><strong>Talca</strong></p>\n",
       " </td>\n",
       " <td>\n",
       " <p align=\"right\" style=\"text-align: right;\">886</p>\n",
       " </td>\n",
       " <td>\n",
       " <p align=\"right\" style=\"text-align: right;\">49</p>\n",
       " </td>\n",
       " </tr>\n",
       " <tr>\n",
       " <td>\n",
       " <p><strong>Calama</strong></p>\n",
       " </td>\n",
       " <td>\n",
       " <p align=\"right\" style=\"text-align: right;\">888</p>\n",
       " </td>\n",
       " <td>\n",
       " <p align=\"right\" style=\"text-align: right;\">50</p>\n",
       " </td>\n",
       " </tr>\n",
       " <tr>\n",
       " <td>\n",
       " <p><strong>Alto\n",
       "   Hospicio</strong></p>\n",
       " </td>\n",
       " <td>\n",
       " <p align=\"right\" style=\"text-align: right;\">893</p>\n",
       " </td>\n",
       " <td>\n",
       " <p align=\"right\" style=\"text-align: right;\">50</p>\n",
       " </td>\n",
       " </tr>\n",
       " <tr>\n",
       " <td>\n",
       " <p><strong>Chillan</strong></p>\n",
       " </td>\n",
       " <td>\n",
       " <p align=\"right\" style=\"text-align: right;\">900</p>\n",
       " </td>\n",
       " <td>\n",
       " <p align=\"right\" style=\"text-align: right;\">52</p>\n",
       " </td>\n",
       " </tr>\n",
       " <tr>\n",
       " <td>\n",
       " <p><strong>La\n",
       "   Calera</strong></p>\n",
       " </td>\n",
       " <td>\n",
       " <p align=\"right\" style=\"text-align: right;\">906</p>\n",
       " </td>\n",
       " <td>\n",
       " <p align=\"right\" style=\"text-align: right;\">53</p>\n",
       " </td>\n",
       " </tr>\n",
       " <tr>\n",
       " <td>\n",
       " <p><strong>Antofagasta</strong></p>\n",
       " </td>\n",
       " <td>\n",
       " <p align=\"right\" style=\"text-align: right;\">919</p>\n",
       " </td>\n",
       " <td>\n",
       " <p align=\"right\" style=\"text-align: right;\">55</p>\n",
       " </td>\n",
       " </tr>\n",
       " <tr>\n",
       " <td>\n",
       " <p><strong>Santiago</strong></p>\n",
       " </td>\n",
       " <td>\n",
       " <p align=\"right\" style=\"text-align: right;\">959</p>\n",
       " </td>\n",
       " <td>\n",
       " <p align=\"right\" style=\"text-align: right;\">69</p>\n",
       " </td>\n",
       " </tr>\n",
       " <tr>\n",
       " <td>\n",
       " <p><strong>Rancagua</strong></p>\n",
       " </td>\n",
       " <td>\n",
       " <p align=\"right\" style=\"text-align: right;\">967</p>\n",
       " </td>\n",
       " <td>\n",
       " <p align=\"right\" style=\"text-align: right;\">74</p>\n",
       " </td>\n",
       " </tr>\n",
       " </tbody>\n",
       " </table>, <table class=\"tablas-indices2\">\n",
       " <tbody>\n",
       " <tr>\n",
       " <td>\n",
       " <p align=\"center\" style=\"text-align: center;\"><strong>Ciudad</strong></p>\n",
       " </td>\n",
       " <td>\n",
       " <p align=\"center\" style=\"text-align: center;\"><strong>Lugar en ranking </strong></p>\n",
       " </td>\n",
       " <td>\n",
       " <p align=\"center\" style=\"text-align: center;\"><strong>Valor medio anual PM2,5</strong></p>\n",
       " </td>\n",
       " </tr>\n",
       " <tr>\n",
       " <td>\n",
       " <p><strong>Calama</strong></p>\n",
       " </td>\n",
       " <td>\n",
       " <p align=\"right\" style=\"text-align: right;\">474</p>\n",
       " </td>\n",
       " <td>\n",
       " <p align=\"right\" style=\"text-align: right;\">14,5</p>\n",
       " </td>\n",
       " </tr>\n",
       " <tr>\n",
       " <td>\n",
       " <p><strong>Alto\n",
       "   Hospicio</strong></p>\n",
       " </td>\n",
       " <td>\n",
       " <p align=\"right\" style=\"text-align: right;\">514</p>\n",
       " </td>\n",
       " <td>\n",
       " <p align=\"right\" style=\"text-align: right;\">18,2</p>\n",
       " </td>\n",
       " </tr>\n",
       " <tr>\n",
       " <td>\n",
       " <p><strong>Valparaíso</strong></p>\n",
       " </td>\n",
       " <td>\n",
       " <p align=\"right\" style=\"text-align: right;\">515</p>\n",
       " </td>\n",
       " <td>\n",
       " <p align=\"right\" style=\"text-align: right;\">18,7</p>\n",
       " </td>\n",
       " </tr>\n",
       " <tr>\n",
       " <td>\n",
       " <p><strong>Concepción</strong></p>\n",
       " </td>\n",
       " <td>\n",
       " <p align=\"right\" style=\"text-align: right;\">545</p>\n",
       " </td>\n",
       " <td>\n",
       " <p align=\"right\" style=\"text-align: right;\">24,0</p>\n",
       " </td>\n",
       " </tr>\n",
       " <tr>\n",
       " <td>\n",
       " <p><strong>Santiago</strong></p>\n",
       " </td>\n",
       " <td>\n",
       " <p align=\"right\" style=\"text-align: right;\">554</p>\n",
       " </td>\n",
       " <td>\n",
       " <p align=\"right\" style=\"text-align: right;\">31,7</p>\n",
       " </td>\n",
       " </tr>\n",
       " <tr>\n",
       " <td>\n",
       " <p><strong>Talca</strong></p>\n",
       " </td>\n",
       " <td>\n",
       " <p align=\"right\" style=\"text-align: right;\">555</p>\n",
       " </td>\n",
       " <td>\n",
       " <p align=\"right\" style=\"text-align: right;\">32,8</p>\n",
       " </td>\n",
       " </tr>\n",
       " </tbody>\n",
       " </table>]"
      ]
     },
     "execution_count": 5,
     "metadata": {},
     "output_type": "execute_result"
    }
   ],
   "source": [
    "browser.select('#contenedor table')"
   ]
  },
  {
   "cell_type": "code",
   "execution_count": 6,
   "metadata": {},
   "outputs": [],
   "source": [
    "table = browser.select('#contenedor table') [0]"
   ]
  },
  {
   "cell_type": "code",
   "execution_count": 7,
   "metadata": {},
   "outputs": [
    {
     "data": {
      "text/plain": [
       "'<table class=\"tablas-indices2\">\\n<tbody>\\n<tr>\\n<td>\\n<p align=\"center\" style=\"text-align: center;\"><strong>Ciudad</strong></p>\\n</td>\\n<td>\\n<p align=\"center\" style=\"text-align: center;\"><strong>Lugar en ranking </strong></p>\\n</td>\\n<td>\\n<p align=\"center\" style=\"text-align: center;\"><strong>Valor medio anual PM10</strong></p>\\n</td>\\n</tr>\\n<tr>\\n<td>\\n<p><strong>Arica</strong></p>\\n</td>\\n<td>\\n<p align=\"right\" style=\"text-align: right;\">837</p>\\n</td>\\n<td>\\n<p align=\"right\" style=\"text-align: right;\">41</p>\\n</td>\\n</tr>\\n<tr>\\n<td>\\n<p><strong>Arauco</strong></p>\\n</td>\\n<td>\\n<p align=\"right\" style=\"text-align: right;\">849</p>\\n</td>\\n<td>\\n<p align=\"right\" style=\"text-align: right;\">43</p>\\n</td>\\n</tr>\\n<tr>\\n<td>\\n<p><strong>Valparaíso</strong></p>\\n</td>\\n<td>\\n<p align=\"right\" style=\"text-align: right;\">850</p>\\n</td>\\n<td>\\n<p align=\"right\" style=\"text-align: right;\">43</p>\\n</td>\\n</tr>\\n<tr>\\n<td>\\n<p><strong>Temuco</strong></p>\\n</td>\\n<td>\\n<p align=\"right\" style=\"text-align: right;\">880</p>\\n</td>\\n<td>\\n<p align=\"right'"
      ]
     },
     "execution_count": 7,
     "metadata": {},
     "output_type": "execute_result"
    }
   ],
   "source": [
    "t=table.__str__()\n",
    "t[:1000]"
   ]
  },
  {
   "cell_type": "code",
   "execution_count": 8,
   "metadata": {},
   "outputs": [
    {
     "data": {
      "text/plain": [
       "'<table class=\"tablas-indices2\">\\n<tbody>\\n<tr>\\n<td>\\n<p align=\"center\" style=\"text-align: center;\"><strong>Ciudad</strong></p>\\n</td>\\n<td>\\n<p align=\"center\" style=\"text-align: center;\"><strong>Lugar en ranking </strong></p>\\n</td>\\n<td>\\n<p align=\"center\" style=\"text-align: center;\"><strong>Valor medio anual PM10</strong></p>\\n</td>\\n</tr>\\n<tr>\\n<td>\\n<p><strong>Arica</strong></p>\\n</td>\\n<td>\\n<p align=\"right\" style=\"text-align: right;\">837</p>\\n</td>\\n<td>\\n<p align=\"right\" style=\"text-align: right;\">41</p>\\n</td>\\n</tr>\\n<tr>\\n<td>\\n<p><strong>Arauco</strong></p>\\n</td>\\n<td>\\n<p align=\"right\" style=\"text-align: right;\">849</p>\\n</td>\\n<td>\\n<p align=\"right\" style=\"text-align: right;\">43</p>\\n</td>\\n</tr>\\n<tr>\\n<td>\\n<p><strong>Valparaíso</strong></p>\\n</td>\\n<td>\\n<p align=\"right\" style=\"text-align: right;\">850</p>\\n</td>\\n<td>\\n<p align=\"right\" style=\"text-align: right;\">43</p>\\n</td>\\n</tr>\\n<tr>\\n<td>\\n<p><strong>Temuco</strong></p>\\n</td>\\n<td>\\n<p align=\"right\" style=\"text-align: right;\">880</p>\\n</td>\\n<td>\\n<p align=\"right'"
      ]
     },
     "execution_count": 8,
     "metadata": {},
     "output_type": "execute_result"
    }
   ],
   "source": [
    "t=t.replace(',','.')\n",
    "t[:1000]"
   ]
  },
  {
   "cell_type": "code",
   "execution_count": 9,
   "metadata": {},
   "outputs": [
    {
     "data": {
      "text/html": [
       "<div>\n",
       "<style scoped>\n",
       "    .dataframe tbody tr th:only-of-type {\n",
       "        vertical-align: middle;\n",
       "    }\n",
       "\n",
       "    .dataframe tbody tr th {\n",
       "        vertical-align: top;\n",
       "    }\n",
       "\n",
       "    .dataframe thead th {\n",
       "        text-align: right;\n",
       "    }\n",
       "</style>\n",
       "<table border=\"1\" class=\"dataframe\">\n",
       "  <thead>\n",
       "    <tr style=\"text-align: right;\">\n",
       "      <th></th>\n",
       "      <th>Ciudad</th>\n",
       "      <th>Lugar en ranking</th>\n",
       "      <th>Valor medio anual PM10</th>\n",
       "    </tr>\n",
       "  </thead>\n",
       "  <tbody>\n",
       "    <tr>\n",
       "      <th>0</th>\n",
       "      <td>Arica</td>\n",
       "      <td>837</td>\n",
       "      <td>41</td>\n",
       "    </tr>\n",
       "    <tr>\n",
       "      <th>1</th>\n",
       "      <td>Arauco</td>\n",
       "      <td>849</td>\n",
       "      <td>43</td>\n",
       "    </tr>\n",
       "    <tr>\n",
       "      <th>2</th>\n",
       "      <td>Valparaíso</td>\n",
       "      <td>850</td>\n",
       "      <td>43</td>\n",
       "    </tr>\n",
       "    <tr>\n",
       "      <th>3</th>\n",
       "      <td>Temuco</td>\n",
       "      <td>880</td>\n",
       "      <td>49</td>\n",
       "    </tr>\n",
       "    <tr>\n",
       "      <th>4</th>\n",
       "      <td>Concepción</td>\n",
       "      <td>883</td>\n",
       "      <td>49</td>\n",
       "    </tr>\n",
       "  </tbody>\n",
       "</table>\n",
       "</div>"
      ],
      "text/plain": [
       "       Ciudad  Lugar en ranking  Valor medio anual PM10\n",
       "0       Arica               837                      41\n",
       "1      Arauco               849                      43\n",
       "2  Valparaíso               850                      43\n",
       "3      Temuco               880                      49\n",
       "4  Concepción               883                      49"
      ]
     },
     "execution_count": 9,
     "metadata": {},
     "output_type": "execute_result"
    }
   ],
   "source": [
    "df=pandas.read_html(t, header=0)[0]\n",
    "df.head()"
   ]
  },
  {
   "cell_type": "code",
   "execution_count": 10,
   "metadata": {},
   "outputs": [
    {
     "data": {
      "text/plain": [
       "{'index': [0, 1, 2, 3, 4, 5, 6, 7, 8, 9, 10, 11, 12],\n",
       " 'columns': ['Ciudad', 'Lugar en ranking', 'Valor medio anual PM10'],\n",
       " 'data': [['Arica', 837, 41],\n",
       "  ['Arauco', 849, 43],\n",
       "  ['Valparaíso', 850, 43],\n",
       "  ['Temuco', 880, 49],\n",
       "  ['Concepción', 883, 49],\n",
       "  ['Talca', 886, 49],\n",
       "  ['Calama', 888, 50],\n",
       "  ['Alto  Hospicio', 893, 50],\n",
       "  ['Chillan', 900, 52],\n",
       "  ['La  Calera', 906, 53],\n",
       "  ['Antofagasta', 919, 55],\n",
       "  ['Santiago', 959, 69],\n",
       "  ['Rancagua', 967, 74]]}"
      ]
     },
     "execution_count": 10,
     "metadata": {},
     "output_type": "execute_result"
    }
   ],
   "source": [
    "d=df.to_dict(orient='split')\n",
    "d"
   ]
  },
  {
   "cell_type": "code",
   "execution_count": 11,
   "metadata": {},
   "outputs": [
    {
     "data": {
      "text/plain": [
       "dict_keys(['index', 'columns', 'data'])"
      ]
     },
     "execution_count": 11,
     "metadata": {},
     "output_type": "execute_result"
    }
   ],
   "source": [
    "d.keys()"
   ]
  },
  {
   "cell_type": "code",
   "execution_count": 12,
   "metadata": {},
   "outputs": [
    {
     "data": {
      "text/plain": [
       "[['Arica', 837, 41],\n",
       " ['Arauco', 849, 43],\n",
       " ['Valparaíso', 850, 43],\n",
       " ['Temuco', 880, 49],\n",
       " ['Concepción', 883, 49],\n",
       " ['Talca', 886, 49],\n",
       " ['Calama', 888, 50],\n",
       " ['Alto  Hospicio', 893, 50],\n",
       " ['Chillan', 900, 52],\n",
       " ['La  Calera', 906, 53],\n",
       " ['Antofagasta', 919, 55],\n",
       " ['Santiago', 959, 69],\n",
       " ['Rancagua', 967, 74]]"
      ]
     },
     "execution_count": 12,
     "metadata": {},
     "output_type": "execute_result"
    }
   ],
   "source": [
    "d['data']"
   ]
  },
  {
   "cell_type": "code",
   "execution_count": 13,
   "metadata": {},
   "outputs": [],
   "source": [
    "data=d['data']"
   ]
  },
  {
   "cell_type": "code",
   "execution_count": 14,
   "metadata": {},
   "outputs": [
    {
     "name": "stdout",
     "output_type": "stream",
     "text": [
      "<[OVER_QUERY_LIMIT] Google - Geocode [empty]>\n"
     ]
    }
   ],
   "source": [
    "gc = geocoder.google('Arica ')\n",
    "print(gc)"
   ]
  },
  {
   "cell_type": "code",
   "execution_count": 15,
   "metadata": {},
   "outputs": [],
   "source": [
    "gc.latlng"
   ]
  },
  {
   "cell_type": "code",
   "execution_count": 16,
   "metadata": {},
   "outputs": [
    {
     "name": "stdout",
     "output_type": "stream",
     "text": [
      "Arica\n",
      "[-18.4782534, -70.3125988]\n",
      "Arauco\n",
      "None\n",
      "Valparaíso\n",
      "[-33.047238, -71.61268849999999]\n",
      "Temuco\n",
      "[-38.7359018, -72.5903739]\n",
      "Concepción\n",
      "[-36.8201352, -73.0443904]\n",
      "Talca\n",
      "[-35.4232444, -71.6484804]\n",
      "Calama\n",
      "[-22.4543923, -68.9293819]\n",
      "Alto  Hospicio\n",
      "[-20.2686722, -70.10491689999999]\n",
      "Chillan\n",
      "[-36.6062618, -72.10233509999999]\n",
      "La  Calera\n",
      "None\n",
      "Antofagasta\n",
      "[-23.6509279, -70.39750219999999]\n",
      "Santiago\n",
      "[-33.4488897, -70.6692655]\n",
      "Rancagua\n",
      "[-34.17013240000001, -70.7406259]\n"
     ]
    }
   ],
   "source": [
    "l=[]\n",
    "for ciudad, ranking, pm10 in data:\n",
    "    lugar = ciudad\n",
    "    print(lugar)\n",
    "    latlng = geocoder.google(lugar).latlng\n",
    "    print(latlng)\n",
    "    zona = [ciudad, ranking, pm10, latlng]\n",
    "    l.append(zona)"
   ]
  },
  {
   "cell_type": "code",
   "execution_count": 17,
   "metadata": {},
   "outputs": [
    {
     "data": {
      "text/plain": [
       "['Arica', 837, 41, [-18.4782534, -70.3125988]]"
      ]
     },
     "execution_count": 17,
     "metadata": {},
     "output_type": "execute_result"
    }
   ],
   "source": [
    "l[0]"
   ]
  },
  {
   "cell_type": "code",
   "execution_count": 18,
   "metadata": {},
   "outputs": [
    {
     "data": {
      "text/plain": [
       "13"
      ]
     },
     "execution_count": 18,
     "metadata": {},
     "output_type": "execute_result"
    }
   ],
   "source": [
    "len(l)"
   ]
  },
  {
   "cell_type": "code",
   "execution_count": 19,
   "metadata": {},
   "outputs": [],
   "source": [
    "l=[[ciudad, ranking, pm10, ubicacion] for ciudad, ranking, pm10, ubicacion in l if ubicacion != None]"
   ]
  },
  {
   "cell_type": "code",
   "execution_count": 20,
   "metadata": {},
   "outputs": [
    {
     "data": {
      "text/plain": [
       "11"
      ]
     },
     "execution_count": 20,
     "metadata": {},
     "output_type": "execute_result"
    }
   ],
   "source": [
    "len(l)"
   ]
  },
  {
   "cell_type": "code",
   "execution_count": 21,
   "metadata": {},
   "outputs": [
    {
     "data": {
      "text/html": [
       "<div style=\"width:100%;\"><div style=\"position:relative;width:100%;height:0;padding-bottom:60%;\"><iframe src=\"data:text/html;charset=utf-8;base64,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\" style=\"position:absolute;width:100%;height:100%;left:0;top:0;border:none !important;\" allowfullscreen webkitallowfullscreen mozallowfullscreen></iframe></div></div>"
      ],
      "text/plain": [
       "<folium.folium.Map at 0x2c87785bd68>"
      ]
     },
     "execution_count": 21,
     "metadata": {},
     "output_type": "execute_result"
    }
   ],
   "source": [
    "m = folium.Map(location= [-18.4782534, -70.3125988])\n",
    "m"
   ]
  },
  {
   "cell_type": "code",
   "execution_count": 22,
   "metadata": {},
   "outputs": [
    {
     "data": {
      "text/html": [
       "<div style=\"width:100%;\"><div style=\"position:relative;width:100%;height:0;padding-bottom:60%;\"><iframe src=\"data:text/html;charset=utf-8;base64,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\" style=\"position:absolute;width:100%;height:100%;left:0;top:0;border:none !important;\" allowfullscreen webkitallowfullscreen mozallowfullscreen></iframe></div></div>"
      ],
      "text/plain": [
       "<folium.folium.Map at 0x2c87add94a8>"
      ]
     },
     "execution_count": 22,
     "metadata": {},
     "output_type": "execute_result"
    }
   ],
   "source": [
    "m = folium.Map(\n",
    "    location = [-18.4782534, -70.3125988],\n",
    "    tiles = 'Stamen Terrain',\n",
    "    zoom_start = 12\n",
    ")\n",
    "folium.Marker(\n",
    "    [-18.4782534, -70.3125988],\n",
    "    popup='Arica').add_to(m)\n",
    "m"
   ]
  },
  {
   "cell_type": "code",
   "execution_count": 114,
   "metadata": {},
   "outputs": [
    {
     "data": {
      "text/html": [
       "<div style=\"width:100%;\"><div style=\"position:relative;width:100%;height:0;padding-bottom:60%;\"><iframe src=\"data:text/html;charset=utf-8;base64,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\" style=\"position:absolute;width:100%;height:100%;left:0;top:0;border:none !important;\" allowfullscreen webkitallowfullscreen mozallowfullscreen></iframe></div></div>"
      ],
      "text/plain": [
       "<folium.folium.Map at 0x25eb96739b0>"
      ]
     },
     "execution_count": 114,
     "metadata": {},
     "output_type": "execute_result"
    }
   ],
   "source": [
    "m = folium.Map(\n",
    "    location = [-18.4782534, -70.3125988],\n",
    "    tiles = 'Stamen Terrain',\n",
    "    zoom_start = 3.5\n",
    ")\n",
    "for ciudad, ranking, pm10, ubicacion in l:\n",
    "    folium.Marker(ubicacion, popup=ciudad).add_to(m)\n",
    "m"
   ]
  },
  {
   "cell_type": "code",
   "execution_count": 112,
   "metadata": {},
   "outputs": [
    {
     "data": {
      "text/html": [
       "<div style=\"width:100%;\"><div style=\"position:relative;width:100%;height:0;padding-bottom:60%;\"><iframe src=\"data:text/html;charset=utf-8;base64,PCFET0NUWVBFIGh0bWw+CjxoZWFkPiAgICAKICAgIDxtZXRhIGh0dHAtZXF1aXY9ImNvbnRlbnQtdHlwZSIgY29udGVudD0idGV4dC9odG1sOyBjaGFyc2V0PVVURi04IiAvPgogICAgPHNjcmlwdD5MX1BSRUZFUl9DQU5WQVMgPSBmYWxzZTsgTF9OT19UT1VDSCA9IGZhbHNlOyBMX0RJU0FCTEVfM0QgPSBmYWxzZTs8L3NjcmlwdD4KICAgIDxzY3JpcHQgc3JjPSJodHRwczovL2Nkbi5qc2RlbGl2ci5uZXQvbnBtL2xlYWZsZXRAMS4yLjAvZGlzdC9sZWFmbGV0LmpzIj48L3NjcmlwdD4KICAgIDxzY3JpcHQgc3JjPSJodHRwczovL2FqYXguZ29vZ2xlYXBpcy5jb20vYWpheC9saWJzL2pxdWVyeS8xLjExLjEvanF1ZXJ5Lm1pbi5qcyI+PC9zY3JpcHQ+CiAgICA8c2NyaXB0IHNyYz0iaHR0cHM6Ly9tYXhjZG4uYm9vdHN0cmFwY2RuLmNvbS9ib290c3RyYXAvMy4yLjAvanMvYm9vdHN0cmFwLm1pbi5qcyI+PC9zY3JpcHQ+CiAgICA8c2NyaXB0IHNyYz0iaHR0cHM6Ly9jZG5qcy5jbG91ZGZsYXJlLmNvbS9hamF4L2xpYnMvTGVhZmxldC5hd2Vzb21lLW1hcmtlcnMvMi4wLjIvbGVhZmxldC5hd2Vzb21lLW1hcmtlcnMuanMiPjwvc2NyaXB0PgogICAgPGxpbmsgcmVsPSJzdHlsZXNoZWV0IiBocmVmPSJodHRwczovL2Nkbi5qc2RlbGl2ci5uZXQvbnBtL2xlYWZsZXRAMS4yLjAvZGlzdC9sZWFmbGV0LmNzcyIvPgogICAgPGxpbmsgcmVsPSJzdHlsZXNoZWV0IiBocmVmPSJodHRwczovL21heGNkbi5ib290c3RyYXBjZG4uY29tL2Jvb3RzdHJhcC8zLjIuMC9jc3MvYm9vdHN0cmFwLm1pbi5jc3MiLz4KICAgIDxsaW5rIHJlbD0ic3R5bGVzaGVldCIgaHJlZj0iaHR0cHM6Ly9tYXhjZG4uYm9vdHN0cmFwY2RuLmNvbS9ib290c3RyYXAvMy4yLjAvY3NzL2Jvb3RzdHJhcC10aGVtZS5taW4uY3NzIi8+CiAgICA8bGluayByZWw9InN0eWxlc2hlZXQiIGhyZWY9Imh0dHBzOi8vbWF4Y2RuLmJvb3RzdHJhcGNkbi5jb20vZm9udC1hd2Vzb21lLzQuNi4zL2Nzcy9mb250LWF3ZXNvbWUubWluLmNzcyIvPgogICAgPGxpbmsgcmVsPSJzdHlsZXNoZWV0IiBocmVmPSJodHRwczovL2NkbmpzLmNsb3VkZmxhcmUuY29tL2FqYXgvbGlicy9MZWFmbGV0LmF3ZXNvbWUtbWFya2Vycy8yLjAuMi9sZWFmbGV0LmF3ZXNvbWUtbWFya2Vycy5jc3MiLz4KICAgIDxsaW5rIHJlbD0ic3R5bGVzaGVldCIgaHJlZj0iaHR0cHM6Ly9yYXdnaXQuY29tL3B5dGhvbi12aXN1YWxpemF0aW9uL2ZvbGl1bS9tYXN0ZXIvZm9saXVtL3RlbXBsYXRlcy9sZWFmbGV0LmF3ZXNvbWUucm90YXRlLmNzcyIvPgogICAgPHN0eWxlPmh0bWwsIGJvZHkge3dpZHRoOiAxMDAlO2hlaWdodDogMTAwJTttYXJnaW46IDA7cGFkZGluZzogMDt9PC9zdHlsZT4KICAgIDxzdHlsZT4jbWFwIHtwb3NpdGlvbjphYnNvbHV0ZTt0b3A6MDtib3R0b206MDtyaWdodDowO2xlZnQ6MDt9PC9zdHlsZT4KICAgIAogICAgICAgICAgICA8c3R5bGU+ICNtYXBfNDQ2MDY2ZjQ5NzQ5NDYwZjk1ZjZmOTMwNDAwOWNjZjAgewogICAgICAgICAgICAgICAgcG9zaXRpb24gOiByZWxhdGl2ZTsKICAgICAgICAgICAgICAgIHdpZHRoIDogMTAwLjAlOwogICAgICAgICAgICAgICAgaGVpZ2h0OiAxMDAuMCU7CiAgICAgICAgICAgICAgICBsZWZ0OiAwLjAlOwogICAgICAgICAgICAgICAgdG9wOiAwLjAlOwogICAgICAgICAgICAgICAgfQogICAgICAgICAgICA8L3N0eWxlPgogICAgICAgIAo8L2hlYWQ+Cjxib2R5PiAgICAKICAgIAogICAgICAgICAgICA8ZGl2IGNsYXNzPSJmb2xpdW0tbWFwIiBpZD0ibWFwXzQ0NjA2NmY0OTc0OTQ2MGY5NWY2ZjkzMDQwMDljY2YwIiA+PC9kaXY+CiAgICAgICAgCjwvYm9keT4KPHNjcmlwdD4gICAgCiAgICAKCiAgICAgICAgICAgIAogICAgICAgICAgICAgICAgdmFyIGJvdW5kcyA9IG51bGw7CiAgICAgICAgICAgIAoKICAgICAgICAgICAgdmFyIG1hcF80NDYwNjZmNDk3NDk0NjBmOTVmNmY5MzA0MDA5Y2NmMCA9IEwubWFwKAogICAgICAgICAgICAgICAgICAgICAgICAgICAgICAgICAgJ21hcF80NDYwNjZmNDk3NDk0NjBmOTVmNmY5MzA0MDA5Y2NmMCcsCiAgICAgICAgICAgICAgICAgICAgICAgICAgICAgICAgICB7Y2VudGVyOiBbLTE4LjQ3ODI1MzQsLTcwLjMxMjU5ODhdLAogICAgICAgICAgICAgICAgICAgICAgICAgICAgICAgICAgem9vbTogOSwKICAgICAgICAgICAgICAgICAgICAgICAgICAgICAgICAgIG1heEJvdW5kczogYm91bmRzLAogICAgICAgICAgICAgICAgICAgICAgICAgICAgICAgICAgbGF5ZXJzOiBbXSwKICAgICAgICAgICAgICAgICAgICAgICAgICAgICAgICAgIHdvcmxkQ29weUp1bXA6IGZhbHNlLAogICAgICAgICAgICAgICAgICAgICAgICAgICAgICAgICAgY3JzOiBMLkNSUy5FUFNHMzg1NwogICAgICAgICAgICAgICAgICAgICAgICAgICAgICAgICB9KTsKICAgICAgICAgICAgCiAgICAgICAgCiAgICAKICAgICAgICAgICAgdmFyIHRpbGVfbGF5ZXJfYTYxMmRhZjNkZTc2NDg2NDhkNDQ1NmY4ZWRhMTZhMzcgPSBMLnRpbGVMYXllcigKICAgICAgICAgICAgICAgICdodHRwczovL3N0YW1lbi10aWxlcy17c30uYS5zc2wuZmFzdGx5Lm5ldC90ZXJyYWluL3t6fS97eH0ve3l9LmpwZycsCiAgICAgICAgICAgICAgICB7CiAgImF0dHJpYnV0aW9uIjogbnVsbCwKICAiZGV0ZWN0UmV0aW5hIjogZmFsc2UsCiAgIm1heFpvb20iOiAxOCwKICAibWluWm9vbSI6IDEsCiAgIm5vV3JhcCI6IGZhbHNlLAogICJzdWJkb21haW5zIjogImFiYyIKfQogICAgICAgICAgICAgICAgKS5hZGRUbyhtYXBfNDQ2MDY2ZjQ5NzQ5NDYwZjk1ZjZmOTMwNDAwOWNjZjApOwogICAgICAgIAogICAgCgogICAgICAgICAgICB2YXIgY2lyY2xlXzJjYzA3NTY1MDNmNjQyOTVhZDM1M2Q2YWNhMzkxY2ZlID0gTC5jaXJjbGUoCiAgICAgICAgICAgICAgICBbLTE4LjQ3ODI1MzQsLTcwLjMxMjU5ODhdLAogICAgICAgICAgICAgICAgewogICJidWJibGluZ01vdXNlRXZlbnRzIjogdHJ1ZSwKICAiY29sb3IiOiAiZ3JlZW4iLAogICJkYXNoQXJyYXkiOiBudWxsLAogICJkYXNoT2Zmc2V0IjogbnVsbCwKICAiZmlsbCI6IGZhbHNlLAogICJmaWxsQ29sb3IiOiAiZ3JlZW4iLAogICJmaWxsT3BhY2l0eSI6IDAuMiwKICAiZmlsbFJ1bGUiOiAiZXZlbm9kZCIsCiAgImxpbmVDYXAiOiAicm91bmQiLAogICJsaW5lSm9pbiI6ICJyb3VuZCIsCiAgIm9wYWNpdHkiOiAxLjAsCiAgInJhZGl1cyI6IDQxMCwKICAic3Ryb2tlIjogdHJ1ZSwKICAid2VpZ2h0IjogMwp9CiAgICAgICAgICAgICAgICApLmFkZFRvKG1hcF80NDYwNjZmNDk3NDk0NjBmOTVmNmY5MzA0MDA5Y2NmMCk7CiAgICAgICAgICAgIAogICAgCiAgICAgICAgICAgIHZhciBwb3B1cF82NmFiMDE5NThmNzU0NjgyYTNmMzFiZTllYWUyZWFmNSA9IEwucG9wdXAoe21heFdpZHRoOiAnMzAwJ30pOwoKICAgICAgICAgICAgCiAgICAgICAgICAgICAgICB2YXIgaHRtbF83NmE4YjU3NDNjYWQ0Y2VlYWUxZDZiYzE0NWFkMDA2YSA9ICQoJzxkaXYgaWQ9Imh0bWxfNzZhOGI1NzQzY2FkNGNlZWFlMWQ2YmMxNDVhZDAwNmEiIHN0eWxlPSJ3aWR0aDogMTAwLjAlOyBoZWlnaHQ6IDEwMC4wJTsiPkFyaWNhPC9kaXY+JylbMF07CiAgICAgICAgICAgICAgICBwb3B1cF82NmFiMDE5NThmNzU0NjgyYTNmMzFiZTllYWUyZWFmNS5zZXRDb250ZW50KGh0bWxfNzZhOGI1NzQzY2FkNGNlZWFlMWQ2YmMxNDVhZDAwNmEpOwogICAgICAgICAgICAKCiAgICAgICAgICAgIGNpcmNsZV8yY2MwNzU2NTAzZjY0Mjk1YWQzNTNkNmFjYTM5MWNmZS5iaW5kUG9wdXAocG9wdXBfNjZhYjAxOTU4Zjc1NDY4MmEzZjMxYmU5ZWFlMmVhZjUpOwoKICAgICAgICAgICAgCiAgICAgICAgCiAgICAKCiAgICAgICAgICAgIHZhciBjaXJjbGVfZjU4Yzk5M2Y4ZDJjNGJlM2IyOGFjZWY5ZDMwOGVjMzUgPSBMLmNpcmNsZSgKICAgICAgICAgICAgICAgIFszNC4zODMwMDY1LC05Mi43MjMxOTMwOTk5OTk5OV0sCiAgICAgICAgICAgICAgICB7CiAgImJ1YmJsaW5nTW91c2VFdmVudHMiOiB0cnVlLAogICJjb2xvciI6ICJncmVlbiIsCiAgImRhc2hBcnJheSI6IG51bGwsCiAgImRhc2hPZmZzZXQiOiBudWxsLAogICJmaWxsIjogZmFsc2UsCiAgImZpbGxDb2xvciI6ICJncmVlbiIsCiAgImZpbGxPcGFjaXR5IjogMC4yLAogICJmaWxsUnVsZSI6ICJldmVub2RkIiwKICAibGluZUNhcCI6ICJyb3VuZCIsCiAgImxpbmVKb2luIjogInJvdW5kIiwKICAib3BhY2l0eSI6IDEuMCwKICAicmFkaXVzIjogNDMwLAogICJzdHJva2UiOiB0cnVlLAogICJ3ZWlnaHQiOiAzCn0KICAgICAgICAgICAgICAgICkuYWRkVG8obWFwXzQ0NjA2NmY0OTc0OTQ2MGY5NWY2ZjkzMDQwMDljY2YwKTsKICAgICAgICAgICAgCiAgICAKICAgICAgICAgICAgdmFyIHBvcHVwX2I0ZTFiMDA3MzMyNTQ5ZTNiMDA0OTFiZjdkMTdjMWEwID0gTC5wb3B1cCh7bWF4V2lkdGg6ICczMDAnfSk7CgogICAgICAgICAgICAKICAgICAgICAgICAgICAgIHZhciBodG1sXzExODI0ZmMyOGYwMjRkYTNiNzBjMjZjMzkxYTBmMjJmID0gJCgnPGRpdiBpZD0iaHRtbF8xMTgyNGZjMjhmMDI0ZGEzYjcwYzI2YzM5MWEwZjIyZiIgc3R5bGU9IndpZHRoOiAxMDAuMCU7IGhlaWdodDogMTAwLjAlOyI+QXJhdWNvPC9kaXY+JylbMF07CiAgICAgICAgICAgICAgICBwb3B1cF9iNGUxYjAwNzMzMjU0OWUzYjAwNDkxYmY3ZDE3YzFhMC5zZXRDb250ZW50KGh0bWxfMTE4MjRmYzI4ZjAyNGRhM2I3MGMyNmMzOTFhMGYyMmYpOwogICAgICAgICAgICAKCiAgICAgICAgICAgIGNpcmNsZV9mNThjOTkzZjhkMmM0YmUzYjI4YWNlZjlkMzA4ZWMzNS5iaW5kUG9wdXAocG9wdXBfYjRlMWIwMDczMzI1NDllM2IwMDQ5MWJmN2QxN2MxYTApOwoKICAgICAgICAgICAgCiAgICAgICAgCiAgICAKCiAgICAgICAgICAgIHZhciBjaXJjbGVfZGU3NzljOTNmZGZmNGMwMjliOWM5NWNkYWI1NGEyYzUgPSBMLmNpcmNsZSgKICAgICAgICAgICAgICAgIFstMzMuMDQ3MjM4LC03MS42MTI2ODg0OTk5OTk5OV0sCiAgICAgICAgICAgICAgICB7CiAgImJ1YmJsaW5nTW91c2VFdmVudHMiOiB0cnVlLAogICJjb2xvciI6ICJncmVlbiIsCiAgImRhc2hBcnJheSI6IG51bGwsCiAgImRhc2hPZmZzZXQiOiBudWxsLAogICJmaWxsIjogZmFsc2UsCiAgImZpbGxDb2xvciI6ICJncmVlbiIsCiAgImZpbGxPcGFjaXR5IjogMC4yLAogICJmaWxsUnVsZSI6ICJldmVub2RkIiwKICAibGluZUNhcCI6ICJyb3VuZCIsCiAgImxpbmVKb2luIjogInJvdW5kIiwKICAib3BhY2l0eSI6IDEuMCwKICAicmFkaXVzIjogNDMwLAogICJzdHJva2UiOiB0cnVlLAogICJ3ZWlnaHQiOiAzCn0KICAgICAgICAgICAgICAgICkuYWRkVG8obWFwXzQ0NjA2NmY0OTc0OTQ2MGY5NWY2ZjkzMDQwMDljY2YwKTsKICAgICAgICAgICAgCiAgICAKICAgICAgICAgICAgdmFyIHBvcHVwXzRmOTQyMDkyOWI1MDRiZjc4ZGNmNDFlMjJkNzkzNTk5ID0gTC5wb3B1cCh7bWF4V2lkdGg6ICczMDAnfSk7CgogICAgICAgICAgICAKICAgICAgICAgICAgICAgIHZhciBodG1sXzllYTc4N2IxMWE2NzQ1M2Q5ZGNmZjc0MWM3MDg0NTIwID0gJCgnPGRpdiBpZD0iaHRtbF85ZWE3ODdiMTFhNjc0NTNkOWRjZmY3NDFjNzA4NDUyMCIgc3R5bGU9IndpZHRoOiAxMDAuMCU7IGhlaWdodDogMTAwLjAlOyI+VmFscGFyYcOtc288L2Rpdj4nKVswXTsKICAgICAgICAgICAgICAgIHBvcHVwXzRmOTQyMDkyOWI1MDRiZjc4ZGNmNDFlMjJkNzkzNTk5LnNldENvbnRlbnQoaHRtbF85ZWE3ODdiMTFhNjc0NTNkOWRjZmY3NDFjNzA4NDUyMCk7CiAgICAgICAgICAgIAoKICAgICAgICAgICAgY2lyY2xlX2RlNzc5YzkzZmRmZjRjMDI5YjljOTVjZGFiNTRhMmM1LmJpbmRQb3B1cChwb3B1cF80Zjk0MjA5MjliNTA0YmY3OGRjZjQxZTIyZDc5MzU5OSk7CgogICAgICAgICAgICAKICAgICAgICAKICAgIAoKICAgICAgICAgICAgdmFyIGNpcmNsZV8zZWI5ZmUwMDIzYjI0MDFjOTA3MjQxN2E0ZDIxZGUwYSA9IEwuY2lyY2xlKAogICAgICAgICAgICAgICAgWy0zOC43MzU5MDE4LC03Mi41OTAzNzM5XSwKICAgICAgICAgICAgICAgIHsKICAiYnViYmxpbmdNb3VzZUV2ZW50cyI6IHRydWUsCiAgImNvbG9yIjogImdyZWVuIiwKICAiZGFzaEFycmF5IjogbnVsbCwKICAiZGFzaE9mZnNldCI6IG51bGwsCiAgImZpbGwiOiBmYWxzZSwKICAiZmlsbENvbG9yIjogImdyZWVuIiwKICAiZmlsbE9wYWNpdHkiOiAwLjIsCiAgImZpbGxSdWxlIjogImV2ZW5vZGQiLAogICJsaW5lQ2FwIjogInJvdW5kIiwKICAibGluZUpvaW4iOiAicm91bmQiLAogICJvcGFjaXR5IjogMS4wLAogICJyYWRpdXMiOiA0OTAsCiAgInN0cm9rZSI6IHRydWUsCiAgIndlaWdodCI6IDMKfQogICAgICAgICAgICAgICAgKS5hZGRUbyhtYXBfNDQ2MDY2ZjQ5NzQ5NDYwZjk1ZjZmOTMwNDAwOWNjZjApOwogICAgICAgICAgICAKICAgIAogICAgICAgICAgICB2YXIgcG9wdXBfMjExN2U3MWUzMGU4NGIyNGE4Njk4MzZlOWFmM2NkMTggPSBMLnBvcHVwKHttYXhXaWR0aDogJzMwMCd9KTsKCiAgICAgICAgICAgIAogICAgICAgICAgICAgICAgdmFyIGh0bWxfMzgwNmVlNzBlNzNjNGQwNTllOTBmNjM2OGQwZjNhZmYgPSAkKCc8ZGl2IGlkPSJodG1sXzM4MDZlZTcwZTczYzRkMDU5ZTkwZjYzNjhkMGYzYWZmIiBzdHlsZT0id2lkdGg6IDEwMC4wJTsgaGVpZ2h0OiAxMDAuMCU7Ij5UZW11Y288L2Rpdj4nKVswXTsKICAgICAgICAgICAgICAgIHBvcHVwXzIxMTdlNzFlMzBlODRiMjRhODY5ODM2ZTlhZjNjZDE4LnNldENvbnRlbnQoaHRtbF8zODA2ZWU3MGU3M2M0ZDA1OWU5MGY2MzY4ZDBmM2FmZik7CiAgICAgICAgICAgIAoKICAgICAgICAgICAgY2lyY2xlXzNlYjlmZTAwMjNiMjQwMWM5MDcyNDE3YTRkMjFkZTBhLmJpbmRQb3B1cChwb3B1cF8yMTE3ZTcxZTMwZTg0YjI0YTg2OTgzNmU5YWYzY2QxOCk7CgogICAgICAgICAgICAKICAgICAgICAKICAgIAoKICAgICAgICAgICAgdmFyIGNpcmNsZV9hOWE2ZWVjYjk5Mzg0MTllOTg3M2JjYjU1MWM1MTExMSA9IEwuY2lyY2xlKAogICAgICAgICAgICAgICAgWy0zNi44MjAxMzUyLC03My4wNDQzOTA0XSwKICAgICAgICAgICAgICAgIHsKICAiYnViYmxpbmdNb3VzZUV2ZW50cyI6IHRydWUsCiAgImNvbG9yIjogImdyZWVuIiwKICAiZGFzaEFycmF5IjogbnVsbCwKICAiZGFzaE9mZnNldCI6IG51bGwsCiAgImZpbGwiOiBmYWxzZSwKICAiZmlsbENvbG9yIjogImdyZWVuIiwKICAiZmlsbE9wYWNpdHkiOiAwLjIsCiAgImZpbGxSdWxlIjogImV2ZW5vZGQiLAogICJsaW5lQ2FwIjogInJvdW5kIiwKICAibGluZUpvaW4iOiAicm91bmQiLAogICJvcGFjaXR5IjogMS4wLAogICJyYWRpdXMiOiA0OTAsCiAgInN0cm9rZSI6IHRydWUsCiAgIndlaWdodCI6IDMKfQogICAgICAgICAgICAgICAgKS5hZGRUbyhtYXBfNDQ2MDY2ZjQ5NzQ5NDYwZjk1ZjZmOTMwNDAwOWNjZjApOwogICAgICAgICAgICAKICAgIAogICAgICAgICAgICB2YXIgcG9wdXBfYWVjNTI5M2I5NzU0NDVjNjk0OTFlZjYyOTJmYjM3N2UgPSBMLnBvcHVwKHttYXhXaWR0aDogJzMwMCd9KTsKCiAgICAgICAgICAgIAogICAgICAgICAgICAgICAgdmFyIGh0bWxfYzExNGZlMjI1ZjI4NGI0MGI4OTk3YzA5MzY5NWMxZWEgPSAkKCc8ZGl2IGlkPSJodG1sX2MxMTRmZTIyNWYyODRiNDBiODk5N2MwOTM2OTVjMWVhIiBzdHlsZT0id2lkdGg6IDEwMC4wJTsgaGVpZ2h0OiAxMDAuMCU7Ij5Db25jZXBjacOzbjwvZGl2PicpWzBdOwogICAgICAgICAgICAgICAgcG9wdXBfYWVjNTI5M2I5NzU0NDVjNjk0OTFlZjYyOTJmYjM3N2Uuc2V0Q29udGVudChodG1sX2MxMTRmZTIyNWYyODRiNDBiODk5N2MwOTM2OTVjMWVhKTsKICAgICAgICAgICAgCgogICAgICAgICAgICBjaXJjbGVfYTlhNmVlY2I5OTM4NDE5ZTk4NzNiY2I1NTFjNTExMTEuYmluZFBvcHVwKHBvcHVwX2FlYzUyOTNiOTc1NDQ1YzY5NDkxZWY2MjkyZmIzNzdlKTsKCiAgICAgICAgICAgIAogICAgICAgIAogICAgCgogICAgICAgICAgICB2YXIgY2lyY2xlXzEwMGJkMmJkNTUxMTRlN2Y5ZDU4MGNmNjg2MWI5NzMxID0gTC5jaXJjbGUoCiAgICAgICAgICAgICAgICBbLTM1LjQyMzI0NDQsLTcxLjY0ODQ4MDRdLAogICAgICAgICAgICAgICAgewogICJidWJibGluZ01vdXNlRXZlbnRzIjogdHJ1ZSwKICAiY29sb3IiOiAiZ3JlZW4iLAogICJkYXNoQXJyYXkiOiBudWxsLAogICJkYXNoT2Zmc2V0IjogbnVsbCwKICAiZmlsbCI6IGZhbHNlLAogICJmaWxsQ29sb3IiOiAiZ3JlZW4iLAogICJmaWxsT3BhY2l0eSI6IDAuMiwKICAiZmlsbFJ1bGUiOiAiZXZlbm9kZCIsCiAgImxpbmVDYXAiOiAicm91bmQiLAogICJsaW5lSm9pbiI6ICJyb3VuZCIsCiAgIm9wYWNpdHkiOiAxLjAsCiAgInJhZGl1cyI6IDQ5MCwKICAic3Ryb2tlIjogdHJ1ZSwKICAid2VpZ2h0IjogMwp9CiAgICAgICAgICAgICAgICApLmFkZFRvKG1hcF80NDYwNjZmNDk3NDk0NjBmOTVmNmY5MzA0MDA5Y2NmMCk7CiAgICAgICAgICAgIAogICAgCiAgICAgICAgICAgIHZhciBwb3B1cF9lMThhNDVhZWVlNGU0YTJmYjI5YWZmNDViNjE3NjYxMCA9IEwucG9wdXAoe21heFdpZHRoOiAnMzAwJ30pOwoKICAgICAgICAgICAgCiAgICAgICAgICAgICAgICB2YXIgaHRtbF9iZWIwYmM4ZDUyYzM0NzFhOTFjNmVlMTRiMDU4YTgyYiA9ICQoJzxkaXYgaWQ9Imh0bWxfYmViMGJjOGQ1MmMzNDcxYTkxYzZlZTE0YjA1OGE4MmIiIHN0eWxlPSJ3aWR0aDogMTAwLjAlOyBoZWlnaHQ6IDEwMC4wJTsiPlRhbGNhPC9kaXY+JylbMF07CiAgICAgICAgICAgICAgICBwb3B1cF9lMThhNDVhZWVlNGU0YTJmYjI5YWZmNDViNjE3NjYxMC5zZXRDb250ZW50KGh0bWxfYmViMGJjOGQ1MmMzNDcxYTkxYzZlZTE0YjA1OGE4MmIpOwogICAgICAgICAgICAKCiAgICAgICAgICAgIGNpcmNsZV8xMDBiZDJiZDU1MTE0ZTdmOWQ1ODBjZjY4NjFiOTczMS5iaW5kUG9wdXAocG9wdXBfZTE4YTQ1YWVlZTRlNGEyZmIyOWFmZjQ1YjYxNzY2MTApOwoKICAgICAgICAgICAgCiAgICAgICAgCiAgICAKCiAgICAgICAgICAgIHZhciBjaXJjbGVfZTMzNWQ2Y2U4YzVhNGU3MmE1NThlZDQxM2M2ZDY0NTAgPSBMLmNpcmNsZSgKICAgICAgICAgICAgICAgIFstMjIuNDU0MzkyMywtNjguOTI5MzgxOV0sCiAgICAgICAgICAgICAgICB7CiAgImJ1YmJsaW5nTW91c2VFdmVudHMiOiB0cnVlLAogICJjb2xvciI6ICJncmVlbiIsCiAgImRhc2hBcnJheSI6IG51bGwsCiAgImRhc2hPZmZzZXQiOiBudWxsLAogICJmaWxsIjogZmFsc2UsCiAgImZpbGxDb2xvciI6ICJncmVlbiIsCiAgImZpbGxPcGFjaXR5IjogMC4yLAogICJmaWxsUnVsZSI6ICJldmVub2RkIiwKICAibGluZUNhcCI6ICJyb3VuZCIsCiAgImxpbmVKb2luIjogInJvdW5kIiwKICAib3BhY2l0eSI6IDEuMCwKICAicmFkaXVzIjogNTAwLAogICJzdHJva2UiOiB0cnVlLAogICJ3ZWlnaHQiOiAzCn0KICAgICAgICAgICAgICAgICkuYWRkVG8obWFwXzQ0NjA2NmY0OTc0OTQ2MGY5NWY2ZjkzMDQwMDljY2YwKTsKICAgICAgICAgICAgCiAgICAKICAgICAgICAgICAgdmFyIHBvcHVwX2U2NTMwYTljYjMzMjQwMDNhMTFiN2Q1NGVhMTE2ZmEzID0gTC5wb3B1cCh7bWF4V2lkdGg6ICczMDAnfSk7CgogICAgICAgICAgICAKICAgICAgICAgICAgICAgIHZhciBodG1sX2NiNWFjZjFkZDllMDQzNmM5ZTI0MzRlNDA2NzYxNTJlID0gJCgnPGRpdiBpZD0iaHRtbF9jYjVhY2YxZGQ5ZTA0MzZjOWUyNDM0ZTQwNjc2MTUyZSIgc3R5bGU9IndpZHRoOiAxMDAuMCU7IGhlaWdodDogMTAwLjAlOyI+Q2FsYW1hPC9kaXY+JylbMF07CiAgICAgICAgICAgICAgICBwb3B1cF9lNjUzMGE5Y2IzMzI0MDAzYTExYjdkNTRlYTExNmZhMy5zZXRDb250ZW50KGh0bWxfY2I1YWNmMWRkOWUwNDM2YzllMjQzNGU0MDY3NjE1MmUpOwogICAgICAgICAgICAKCiAgICAgICAgICAgIGNpcmNsZV9lMzM1ZDZjZThjNWE0ZTcyYTU1OGVkNDEzYzZkNjQ1MC5iaW5kUG9wdXAocG9wdXBfZTY1MzBhOWNiMzMyNDAwM2ExMWI3ZDU0ZWExMTZmYTMpOwoKICAgICAgICAgICAgCiAgICAgICAgCiAgICAKCiAgICAgICAgICAgIHZhciBjaXJjbGVfYjJkMjgxYjQwNWE4NGQ3ZGI3YTkxNmYxMDI2NjE2MzQgPSBMLmNpcmNsZSgKICAgICAgICAgICAgICAgIFstMjAuMjY4NjcyMiwtNzAuMTA0OTE2ODk5OTk5OTldLAogICAgICAgICAgICAgICAgewogICJidWJibGluZ01vdXNlRXZlbnRzIjogdHJ1ZSwKICAiY29sb3IiOiAiZ3JlZW4iLAogICJkYXNoQXJyYXkiOiBudWxsLAogICJkYXNoT2Zmc2V0IjogbnVsbCwKICAiZmlsbCI6IGZhbHNlLAogICJmaWxsQ29sb3IiOiAiZ3JlZW4iLAogICJmaWxsT3BhY2l0eSI6IDAuMiwKICAiZmlsbFJ1bGUiOiAiZXZlbm9kZCIsCiAgImxpbmVDYXAiOiAicm91bmQiLAogICJsaW5lSm9pbiI6ICJyb3VuZCIsCiAgIm9wYWNpdHkiOiAxLjAsCiAgInJhZGl1cyI6IDUwMCwKICAic3Ryb2tlIjogdHJ1ZSwKICAid2VpZ2h0IjogMwp9CiAgICAgICAgICAgICAgICApLmFkZFRvKG1hcF80NDYwNjZmNDk3NDk0NjBmOTVmNmY5MzA0MDA5Y2NmMCk7CiAgICAgICAgICAgIAogICAgCiAgICAgICAgICAgIHZhciBwb3B1cF83MWUyYjY5Y2ExMGQ0MzYwOTcxYzI0NzljM2I4OWI3ZiA9IEwucG9wdXAoe21heFdpZHRoOiAnMzAwJ30pOwoKICAgICAgICAgICAgCiAgICAgICAgICAgICAgICB2YXIgaHRtbF9kOTljMjc3MzM5OWU0ODY5YjJhZDFlZTI5MGVlMzI0MCA9ICQoJzxkaXYgaWQ9Imh0bWxfZDk5YzI3NzMzOTllNDg2OWIyYWQxZWUyOTBlZTMyNDAiIHN0eWxlPSJ3aWR0aDogMTAwLjAlOyBoZWlnaHQ6IDEwMC4wJTsiPkFsdG8gIEhvc3BpY2lvPC9kaXY+JylbMF07CiAgICAgICAgICAgICAgICBwb3B1cF83MWUyYjY5Y2ExMGQ0MzYwOTcxYzI0NzljM2I4OWI3Zi5zZXRDb250ZW50KGh0bWxfZDk5YzI3NzMzOTllNDg2OWIyYWQxZWUyOTBlZTMyNDApOwogICAgICAgICAgICAKCiAgICAgICAgICAgIGNpcmNsZV9iMmQyODFiNDA1YTg0ZDdkYjdhOTE2ZjEwMjY2MTYzNC5iaW5kUG9wdXAocG9wdXBfNzFlMmI2OWNhMTBkNDM2MDk3MWMyNDc5YzNiODliN2YpOwoKICAgICAgICAgICAgCiAgICAgICAgCiAgICAKCiAgICAgICAgICAgIHZhciBjaXJjbGVfOGQ3MjQyZDI0NTk4NGVkMDhkMmZjMGQ4YTM2MzJkNzMgPSBMLmNpcmNsZSgKICAgICAgICAgICAgICAgIFstMzYuNjA2MjYxOCwtNzIuMTAyMzM1MDk5OTk5OTldLAogICAgICAgICAgICAgICAgewogICJidWJibGluZ01vdXNlRXZlbnRzIjogdHJ1ZSwKICAiY29sb3IiOiAiZ3JlZW4iLAogICJkYXNoQXJyYXkiOiBudWxsLAogICJkYXNoT2Zmc2V0IjogbnVsbCwKICAiZmlsbCI6IGZhbHNlLAogICJmaWxsQ29sb3IiOiAiZ3JlZW4iLAogICJmaWxsT3BhY2l0eSI6IDAuMiwKICAiZmlsbFJ1bGUiOiAiZXZlbm9kZCIsCiAgImxpbmVDYXAiOiAicm91bmQiLAogICJsaW5lSm9pbiI6ICJyb3VuZCIsCiAgIm9wYWNpdHkiOiAxLjAsCiAgInJhZGl1cyI6IDUyMCwKICAic3Ryb2tlIjogdHJ1ZSwKICAid2VpZ2h0IjogMwp9CiAgICAgICAgICAgICAgICApLmFkZFRvKG1hcF80NDYwNjZmNDk3NDk0NjBmOTVmNmY5MzA0MDA5Y2NmMCk7CiAgICAgICAgICAgIAogICAgCiAgICAgICAgICAgIHZhciBwb3B1cF84NjQ4YmQzYjIwYTE0ODUwYTk3NTBkMmJjYmQxOWY2YyA9IEwucG9wdXAoe21heFdpZHRoOiAnMzAwJ30pOwoKICAgICAgICAgICAgCiAgICAgICAgICAgICAgICB2YXIgaHRtbF8yZjY3M2E0MmE1OTg0MGVkYWU5M2UwMWRkOTM4ZWJjZCA9ICQoJzxkaXYgaWQ9Imh0bWxfMmY2NzNhNDJhNTk4NDBlZGFlOTNlMDFkZDkzOGViY2QiIHN0eWxlPSJ3aWR0aDogMTAwLjAlOyBoZWlnaHQ6IDEwMC4wJTsiPkNoaWxsYW48L2Rpdj4nKVswXTsKICAgICAgICAgICAgICAgIHBvcHVwXzg2NDhiZDNiMjBhMTQ4NTBhOTc1MGQyYmNiZDE5ZjZjLnNldENvbnRlbnQoaHRtbF8yZjY3M2E0MmE1OTg0MGVkYWU5M2UwMWRkOTM4ZWJjZCk7CiAgICAgICAgICAgIAoKICAgICAgICAgICAgY2lyY2xlXzhkNzI0MmQyNDU5ODRlZDA4ZDJmYzBkOGEzNjMyZDczLmJpbmRQb3B1cChwb3B1cF84NjQ4YmQzYjIwYTE0ODUwYTk3NTBkMmJjYmQxOWY2Yyk7CgogICAgICAgICAgICAKICAgICAgICAKICAgIAoKICAgICAgICAgICAgdmFyIGNpcmNsZV81NTEwYmUwZTQyOTM0Y2U5YWEzODdjZmQyZTZjNTdkYSA9IEwuY2lyY2xlKAogICAgICAgICAgICAgICAgWzQuNzIwNTIxLC03My45Njg2MzFdLAogICAgICAgICAgICAgICAgewogICJidWJibGluZ01vdXNlRXZlbnRzIjogdHJ1ZSwKICAiY29sb3IiOiAiZ3JlZW4iLAogICJkYXNoQXJyYXkiOiBudWxsLAogICJkYXNoT2Zmc2V0IjogbnVsbCwKICAiZmlsbCI6IGZhbHNlLAogICJmaWxsQ29sb3IiOiAiZ3JlZW4iLAogICJmaWxsT3BhY2l0eSI6IDAuMiwKICAiZmlsbFJ1bGUiOiAiZXZlbm9kZCIsCiAgImxpbmVDYXAiOiAicm91bmQiLAogICJsaW5lSm9pbiI6ICJyb3VuZCIsCiAgIm9wYWNpdHkiOiAxLjAsCiAgInJhZGl1cyI6IDUzMCwKICAic3Ryb2tlIjogdHJ1ZSwKICAid2VpZ2h0IjogMwp9CiAgICAgICAgICAgICAgICApLmFkZFRvKG1hcF80NDYwNjZmNDk3NDk0NjBmOTVmNmY5MzA0MDA5Y2NmMCk7CiAgICAgICAgICAgIAogICAgCiAgICAgICAgICAgIHZhciBwb3B1cF9jZTMyNjhhOWQ1MjI0MTdjOGVjOTA0ZmYzMWQ5ODI2NyA9IEwucG9wdXAoe21heFdpZHRoOiAnMzAwJ30pOwoKICAgICAgICAgICAgCiAgICAgICAgICAgICAgICB2YXIgaHRtbF85ZjA1MjUzMjczZTA0MDUyYjcxNDU1ZThmZTA5MzMwOSA9ICQoJzxkaXYgaWQ9Imh0bWxfOWYwNTI1MzI3M2UwNDA1MmI3MTQ1NWU4ZmUwOTMzMDkiIHN0eWxlPSJ3aWR0aDogMTAwLjAlOyBoZWlnaHQ6IDEwMC4wJTsiPkxhICBDYWxlcmE8L2Rpdj4nKVswXTsKICAgICAgICAgICAgICAgIHBvcHVwX2NlMzI2OGE5ZDUyMjQxN2M4ZWM5MDRmZjMxZDk4MjY3LnNldENvbnRlbnQoaHRtbF85ZjA1MjUzMjczZTA0MDUyYjcxNDU1ZThmZTA5MzMwOSk7CiAgICAgICAgICAgIAoKICAgICAgICAgICAgY2lyY2xlXzU1MTBiZTBlNDI5MzRjZTlhYTM4N2NmZDJlNmM1N2RhLmJpbmRQb3B1cChwb3B1cF9jZTMyNjhhOWQ1MjI0MTdjOGVjOTA0ZmYzMWQ5ODI2Nyk7CgogICAgICAgICAgICAKICAgICAgICAKICAgIAoKICAgICAgICAgICAgdmFyIGNpcmNsZV9lZWRkYmM4ODJkZmU0Nzk0YjAzNjcwOGI5NjJkYTU5MiA9IEwuY2lyY2xlKAogICAgICAgICAgICAgICAgWy0yMy42NTA5Mjc5LC03MC4zOTc1MDIxOTk5OTk5OV0sCiAgICAgICAgICAgICAgICB7CiAgImJ1YmJsaW5nTW91c2VFdmVudHMiOiB0cnVlLAogICJjb2xvciI6ICJncmVlbiIsCiAgImRhc2hBcnJheSI6IG51bGwsCiAgImRhc2hPZmZzZXQiOiBudWxsLAogICJmaWxsIjogZmFsc2UsCiAgImZpbGxDb2xvciI6ICJncmVlbiIsCiAgImZpbGxPcGFjaXR5IjogMC4yLAogICJmaWxsUnVsZSI6ICJldmVub2RkIiwKICAibGluZUNhcCI6ICJyb3VuZCIsCiAgImxpbmVKb2luIjogInJvdW5kIiwKICAib3BhY2l0eSI6IDEuMCwKICAicmFkaXVzIjogNTUwLAogICJzdHJva2UiOiB0cnVlLAogICJ3ZWlnaHQiOiAzCn0KICAgICAgICAgICAgICAgICkuYWRkVG8obWFwXzQ0NjA2NmY0OTc0OTQ2MGY5NWY2ZjkzMDQwMDljY2YwKTsKICAgICAgICAgICAgCiAgICAKICAgICAgICAgICAgdmFyIHBvcHVwXzNkMTBiZjhmZDY0ZDQxNzJhNzAzZWY1MWQ2ZTdjNjdiID0gTC5wb3B1cCh7bWF4V2lkdGg6ICczMDAnfSk7CgogICAgICAgICAgICAKICAgICAgICAgICAgICAgIHZhciBodG1sXzhlMmU4NjJjNjg3NDQ4MjFhZjlmYTNiOTA0YzI4ZTNkID0gJCgnPGRpdiBpZD0iaHRtbF84ZTJlODYyYzY4NzQ0ODIxYWY5ZmEzYjkwNGMyOGUzZCIgc3R5bGU9IndpZHRoOiAxMDAuMCU7IGhlaWdodDogMTAwLjAlOyI+QW50b2ZhZ2FzdGE8L2Rpdj4nKVswXTsKICAgICAgICAgICAgICAgIHBvcHVwXzNkMTBiZjhmZDY0ZDQxNzJhNzAzZWY1MWQ2ZTdjNjdiLnNldENvbnRlbnQoaHRtbF84ZTJlODYyYzY4NzQ0ODIxYWY5ZmEzYjkwNGMyOGUzZCk7CiAgICAgICAgICAgIAoKICAgICAgICAgICAgY2lyY2xlX2VlZGRiYzg4MmRmZTQ3OTRiMDM2NzA4Yjk2MmRhNTkyLmJpbmRQb3B1cChwb3B1cF8zZDEwYmY4ZmQ2NGQ0MTcyYTcwM2VmNTFkNmU3YzY3Yik7CgogICAgICAgICAgICAKICAgICAgICAKICAgIAoKICAgICAgICAgICAgdmFyIGNpcmNsZV80NWE3ODI2YTc3OWQ0MmQ0YmNjNmFhM2Y2ZjdhZWRhNSA9IEwuY2lyY2xlKAogICAgICAgICAgICAgICAgWy0zMy40NDg4ODk3LC03MC42NjkyNjU1XSwKICAgICAgICAgICAgICAgIHsKICAiYnViYmxpbmdNb3VzZUV2ZW50cyI6IHRydWUsCiAgImNvbG9yIjogImdyZWVuIiwKICAiZGFzaEFycmF5IjogbnVsbCwKICAiZGFzaE9mZnNldCI6IG51bGwsCiAgImZpbGwiOiBmYWxzZSwKICAiZmlsbENvbG9yIjogImdyZWVuIiwKICAiZmlsbE9wYWNpdHkiOiAwLjIsCiAgImZpbGxSdWxlIjogImV2ZW5vZGQiLAogICJsaW5lQ2FwIjogInJvdW5kIiwKICAibGluZUpvaW4iOiAicm91bmQiLAogICJvcGFjaXR5IjogMS4wLAogICJyYWRpdXMiOiA2OTAsCiAgInN0cm9rZSI6IHRydWUsCiAgIndlaWdodCI6IDMKfQogICAgICAgICAgICAgICAgKS5hZGRUbyhtYXBfNDQ2MDY2ZjQ5NzQ5NDYwZjk1ZjZmOTMwNDAwOWNjZjApOwogICAgICAgICAgICAKICAgIAogICAgICAgICAgICB2YXIgcG9wdXBfZGY5NzNmZWYyZTA0NDBhYzg0N2EzYzE3Njk3YmZmOWQgPSBMLnBvcHVwKHttYXhXaWR0aDogJzMwMCd9KTsKCiAgICAgICAgICAgIAogICAgICAgICAgICAgICAgdmFyIGh0bWxfODgwMmJkNDhjZDY4NDNhOThhYTI5NzQ3N2ZlNTEwOWQgPSAkKCc8ZGl2IGlkPSJodG1sXzg4MDJiZDQ4Y2Q2ODQzYTk4YWEyOTc0NzdmZTUxMDlkIiBzdHlsZT0id2lkdGg6IDEwMC4wJTsgaGVpZ2h0OiAxMDAuMCU7Ij5TYW50aWFnbzwvZGl2PicpWzBdOwogICAgICAgICAgICAgICAgcG9wdXBfZGY5NzNmZWYyZTA0NDBhYzg0N2EzYzE3Njk3YmZmOWQuc2V0Q29udGVudChodG1sXzg4MDJiZDQ4Y2Q2ODQzYTk4YWEyOTc0NzdmZTUxMDlkKTsKICAgICAgICAgICAgCgogICAgICAgICAgICBjaXJjbGVfNDVhNzgyNmE3NzlkNDJkNGJjYzZhYTNmNmY3YWVkYTUuYmluZFBvcHVwKHBvcHVwX2RmOTczZmVmMmUwNDQwYWM4NDdhM2MxNzY5N2JmZjlkKTsKCiAgICAgICAgICAgIAogICAgICAgIAogICAgCgogICAgICAgICAgICB2YXIgY2lyY2xlX2UzN2EzZmYzZWRkMDQzOTk4MTIwMTNmM2FmMGRlNjg3ID0gTC5jaXJjbGUoCiAgICAgICAgICAgICAgICBbLTM0LjE3MDEzMjQwMDAwMDAxLC03MC43NDA2MjU5XSwKICAgICAgICAgICAgICAgIHsKICAiYnViYmxpbmdNb3VzZUV2ZW50cyI6IHRydWUsCiAgImNvbG9yIjogImdyZWVuIiwKICAiZGFzaEFycmF5IjogbnVsbCwKICAiZGFzaE9mZnNldCI6IG51bGwsCiAgImZpbGwiOiBmYWxzZSwKICAiZmlsbENvbG9yIjogImdyZWVuIiwKICAiZmlsbE9wYWNpdHkiOiAwLjIsCiAgImZpbGxSdWxlIjogImV2ZW5vZGQiLAogICJsaW5lQ2FwIjogInJvdW5kIiwKICAibGluZUpvaW4iOiAicm91bmQiLAogICJvcGFjaXR5IjogMS4wLAogICJyYWRpdXMiOiA3NDAsCiAgInN0cm9rZSI6IHRydWUsCiAgIndlaWdodCI6IDMKfQogICAgICAgICAgICAgICAgKS5hZGRUbyhtYXBfNDQ2MDY2ZjQ5NzQ5NDYwZjk1ZjZmOTMwNDAwOWNjZjApOwogICAgICAgICAgICAKICAgIAogICAgICAgICAgICB2YXIgcG9wdXBfNDRmZTFiNzhhMjJlNDk4MTg1ODk5NDE1ODk4MTliMjEgPSBMLnBvcHVwKHttYXhXaWR0aDogJzMwMCd9KTsKCiAgICAgICAgICAgIAogICAgICAgICAgICAgICAgdmFyIGh0bWxfYWM3YmY2N2E2YmY4NDIwMGJhYjdjNzM5YjYyYWViYTQgPSAkKCc8ZGl2IGlkPSJodG1sX2FjN2JmNjdhNmJmODQyMDBiYWI3YzczOWI2MmFlYmE0IiBzdHlsZT0id2lkdGg6IDEwMC4wJTsgaGVpZ2h0OiAxMDAuMCU7Ij5SYW5jYWd1YTwvZGl2PicpWzBdOwogICAgICAgICAgICAgICAgcG9wdXBfNDRmZTFiNzhhMjJlNDk4MTg1ODk5NDE1ODk4MTliMjEuc2V0Q29udGVudChodG1sX2FjN2JmNjdhNmJmODQyMDBiYWI3YzczOWI2MmFlYmE0KTsKICAgICAgICAgICAgCgogICAgICAgICAgICBjaXJjbGVfZTM3YTNmZjNlZGQwNDM5OTgxMjAxM2YzYWYwZGU2ODcuYmluZFBvcHVwKHBvcHVwXzQ0ZmUxYjc4YTIyZTQ5ODE4NTg5OTQxNTg5ODE5YjIxKTsKCiAgICAgICAgICAgIAogICAgICAgIAo8L3NjcmlwdD4=\" style=\"position:absolute;width:100%;height:100%;left:0;top:0;border:none !important;\" allowfullscreen webkitallowfullscreen mozallowfullscreen></iframe></div></div>"
      ],
      "text/plain": [
       "<folium.folium.Map at 0x25eb95d4240>"
      ]
     },
     "execution_count": 112,
     "metadata": {},
     "output_type": "execute_result"
    }
   ],
   "source": [
    "m = folium.Map(\n",
    "    location = [-18.4782534, -70.3125988],\n",
    "    tiles = 'Stamen Terrain',\n",
    "    zoom_start = 9\n",
    ")\n",
    "for ciudad, ranking, pm10, ubicacion in l:\n",
    "    folium.Circle(\n",
    "        ubicacion,\n",
    "        popup=ciudad,\n",
    "        color='green',\n",
    "        fill=False,\n",
    "        radius = (pm10)*10\n",
    "    ).add_to(m)\n",
    "m"
   ]
  },
  {
   "cell_type": "code",
   "execution_count": null,
   "metadata": {},
   "outputs": [],
   "source": []
  },
  {
   "cell_type": "code",
   "execution_count": null,
   "metadata": {},
   "outputs": [],
   "source": []
  }
 ],
 "metadata": {
  "kernelspec": {
   "display_name": "Python 3",
   "language": "python",
   "name": "python3"
  },
  "language_info": {
   "codemirror_mode": {
    "name": "ipython",
    "version": 3
   },
   "file_extension": ".py",
   "mimetype": "text/x-python",
   "name": "python",
   "nbconvert_exporter": "python",
   "pygments_lexer": "ipython3",
   "version": "3.6.5"
  }
 },
 "nbformat": 4,
 "nbformat_minor": 2
}
